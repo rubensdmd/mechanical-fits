{
  "nbformat": 4,
  "nbformat_minor": 0,
  "metadata": {
    "colab": {
      "name": "Engineering_tolerancings.ipynb",
      "provenance": [],
      "collapsed_sections": [
        "5G5fI42cqkl_",
        "7aO4hLiHks05",
        "nMv4XaCVJ6P_",
        "qtjPbvPjPl5C"
      ],
      "mount_file_id": "1sy_P80tRQnaYLTe3TkGob60k8TEQwO4O",
      "authorship_tag": "ABX9TyOiohSyLWmmnw5yGNhOxcw8",
      "include_colab_link": true
    },
    "kernelspec": {
      "name": "python3",
      "display_name": "Python 3"
    }
  },
  "cells": [
    {
      "cell_type": "markdown",
      "metadata": {
        "id": "view-in-github",
        "colab_type": "text"
      },
      "source": [
        "<a href=\"https://colab.research.google.com/github/rubensdmd/mechanical_fits/blob/master/Engineering_tolerancings.ipynb\" target=\"_parent\"><img src=\"https://colab.research.google.com/assets/colab-badge.svg\" alt=\"Open In Colab\"/></a>"
      ]
    },
    {
      "cell_type": "markdown",
      "metadata": {
        "id": "TWLm_P6uf_99",
        "colab_type": "text"
      },
      "source": [
        "# **Engineering Tolerancings**\n",
        "\n",
        "------"
      ]
    },
    {
      "cell_type": "markdown",
      "metadata": {
        "id": "5G5fI42cqkl_",
        "colab_type": "text"
      },
      "source": [
        "## Introduction"
      ]
    },
    {
      "cell_type": "markdown",
      "metadata": {
        "id": "Agg3jpjTqq7M",
        "colab_type": "text"
      },
      "source": [
        "<p align=\"justify\">A solid is defined by its surface boundaries. Designers typically specify a component’s nominal dimensions such that it fulfills its requirements. In reality, components cannot be made repeatedly to nominal dimensions due to surface irregularities and intrinsic surface roughness. Some variability in dimensions must be allowed to ensure that manufacture is possible. However, the variability permitted must not be so great that the performance of the assembled parts is impaired. The allowed variability on the individual component dimensions is called the tolerance.</p>"
      ]
    },
    {
      "cell_type": "markdown",
      "metadata": {
        "id": "7aO4hLiHks05",
        "colab_type": "text"
      },
      "source": [
        "## Overview\n"
      ]
    },
    {
      "cell_type": "markdown",
      "metadata": {
        "id": "6isfUleP4egO",
        "colab_type": "text"
      },
      "source": [
        "**1.Definitions:**\n",
        "\n",
        "**Size:** A number expressing in a particular unit the numerical value of a dimension.\\\n",
        "**Actual size:** The size of a part as obtained by measurement.\\\n",
        "**Limits of size:** The maximum and minimum sizes permitted for a feature.\\\n",
        "**Maximum limit of size:** The greater of the two limits of size.\\\n",
        "**Minimum limit of size:** The lesser of the two limits of size.\\\n",
        "**Basic size**: The size by reference to which the limits of size are fixed.\\\n",
        "**Deviation:** The algebraic difference between a size and the corresponding basic size.\\\n",
        "**Actual deviation:** The algebraic difference between the actual size and the corresponding basic size.\\\n",
        "**Upper deviation:** The algebraic difference between the maximum limit of size and the corresponding basic size.\\\n",
        "**Lower deviation:** The algebraic difference between the minimum limit of size and the corresponding basic size.\\\n",
        "**Tolerance:** The difference between the maximum limit of size and the minimum limit of size.\\\n",
        "**Shaft:** The term used by convention to designate all external features of a part (including parts that are not cylindrical).\\\n",
        "**Hole:** The term used by convention to designate all internal features of a part.\n",
        "\n",
        "![Definitions of terms used in conventional tolerancing.](https://drive.google.com/uc?id=1XNXrXpQaxX6VREaIXt4zF3WEdQJHRt_W)\n",
        "\n",
        "**2.   Fit or tolerance indication:**\n",
        "\n",
        "<p align=\"justify\">Fundamental deviations are expressed by tolerance position letters using capital letters for internal dimensions (holes) and lowercase letters for external dimensions (shafts). As shown in Fig. 19.1, the fundamental deviation is used to position the tolerance zone relative to the basic size.</p>\n",
        "\n",
        "Figure 19.2 shows how the letters are combined with the tolerance grades to\n",
        "establish a fit. If the basic size for Fig. 19.2 is 25 mm, then the hole dimensions are defined by the ISO symbol.\n",
        "\n",
        ">Example:\n",
        "\n",
        ">Basis | ISO Symbol | Items\n",
        ">--- | --- | ---\n",
        ">Shaft  | **25 h9**  | **25** Basic size\n",
        "                   ||**h** Fundamental deviations, lowercase letters for external dimensions (shafts).\n",
        "                   ||**9** International Tolerance Grades. \n",
        ">Hole | **25 D9** | **25** Basic size\n",
        "                   ||**D** Fundamental deviations, capital letters for internal dimensions (holes)\n",
        "                   ||**9** International Tolerance Grades. \n",
        "\n",
        "![texto alternativo](https://drive.google.com/uc?export=view&id=18kh9Dxt0-RbTlz1nVXc6PFtLKRtNjw3h)\n",
        "\n",
        "\n",
        "\n",
        "**3.   International Tolerance Grades:**\n",
        "\n",
        "The variation in part size, also called the magnitude of the tolerance zone, is\n",
        "expressed in grade or IT numbers.\\\n",
        "There are twenty grade numbers, according to UNE-EN 20286-1:1996 (ISO 286-1988), which apply according to function or requirement: \n",
        "\n",
        "| IT number| Function                                       |\n",
        "|----------|------------------------------------------------|\n",
        "|  01-0    | Special-precision. Gauge Blocks                |\n",
        "|  1-3     | Calipers, high-precision tools.                |\n",
        "|  4-11    | Assemblies, parts and elements designed to fit |\n",
        "|  12-18   | Free surfaces                                  |\n",
        "\n",
        "\n",
        "**4.   Fundamental deviations:**\n",
        "\n",
        "According to UNE-EN 20286-1:1996 (ISO 286-1988) there are 28\n",
        "fundamental deviations preferred metric fits.\\\n",
        "For holes:\\\n",
        "A, B, C, CD, D, E, EF, F, FG, G, H, J, JS, K, M, N, P, R, S, T, U, V, X, Y, Z, ZA, ZB, ZC\n",
        "\n",
        "For shafts:\\\n",
        "a, b, c, cd, d, e, ef, f, fg, g, h, j, js, k, m, n, p, r, s, t, u, v, x, y, z, za, zb, zc\n",
        "\n",
        "Some examples of the relative position of fundamental deviation for preferred fits looks as follow:\n",
        "\n",
        "![texto alternativo](https://drive.google.com/uc?export=view&id=1BtzA51OFlfDk9IEHNV99g9arU9g7Piir)\n",
        "\n",
        "![texto alternativo](https://drive.google.com/uc?export=view&id=1Yrs6I7EqshDzoox3OpaPXiXFifLKgfpO)\n",
        "\n"
      ]
    },
    {
      "cell_type": "markdown",
      "metadata": {
        "id": "nMv4XaCVJ6P_",
        "colab_type": "text"
      },
      "source": [
        "## Preferred Fits"
      ]
    },
    {
      "cell_type": "markdown",
      "metadata": {
        "id": "thBtRhzJUouQ",
        "colab_type": "text"
      },
      "source": [
        "\n",
        "| Class        \t| Description                 \t| Characteristic                                                                                                                                 \t| ISO code: <br>Hole Basis \t| ISO code: <br>Shaft Basis \t| Assembly                                           \t| Application                                                                                                                     \t|\n",
        "|--------------\t|-----------------------------\t|------------------------------------------------------------------------------------------------------------------------------------------------\t|--------------------------\t|---------------------------\t|----------------------------------------------------\t|---------------------------------------------------------------------------------------------------------------------------------\t|\n",
        "| Clearance    \t| Loose running fit           \t| For wide   <br>commercial tolerances                                                                                                           \t| H11/c11                  \t| C11/h11                   \t| Noticeable   <br>clearance                         \t| IC engine exhaust   <br>valve in guide                                                                                          \t|\n",
        "|              \t| Free running fit            \t| Good for large temperature   <br>variations, high running speeds <br>or heavy journal pressures                                                \t| H9/d9                    \t| D9/h9                     \t| Noticeable <br>clearance                           \t| Multiple bearing shafts,   <br>hydraulic piston in cylinder, <br>removable levers, bearings <br>for rollers                     \t|\n",
        "|              \t| Close running fit           \t| For running on accurate machines   <br>and accurate location at moderate <br>speeds and journal pressures                                      \t| H8/f 7                   \t| F8/h7                     \t| Clearance                                          \t| Machine tool main bearings,   <br>crankshaft and connecting rod <br>bearings, shaft sleeves, clutch <br>sleeves, guide   blocks \t|\n",
        "|              \t| Sliding fit                 \t| When parts are not intended to run   <br>freely, but must move and turn and <br>locate accurately                                              \t| H7/g6                    \t| G7/h6                     \t| Push fit without <br>noticeable   clearance        \t| Push on gear wheels and clutches,   <br>connecting rod bearings, <br>indicator pistons                                          \t|\n",
        "|              \t| Location clearance fit      \t| Provides snug fit for location of   <br>stationary parts, but can be freely <br>assembled                                                      \t| H7/h6                    \t| H7/h6                     \t| Hand pressure with <br>lubrication                 \t| Gears, tailstock sleeves,   <br>adjusting rings, loose bushes <br>for piston bolts and pipelines                                \t|\n",
        "| Transition   \t| Location transition fit     \t| For accurate location (compromise   <br>between clearance and interference fit)                                                                \t| H7/k6                    \t| K7/h6                     \t| Easily tapped <br>with hammer                      \t| Pulleys, clutches, gears,   <br>flywheels, fixed handwheels, <br>and permanent levers                                           \t|\n",
        "|              \t| Location transition fit     \t| For more accurate location                                                                                                                     \t| H7/n6                    \t| N7/h6                     \t| Needs pressure                                     \t| Motor shaft armatures, toothed   <br>collars on wheels                                                                          \t|\n",
        "| Interference \t| Locational interference fit \t| For parts requiring rigidity and   <br>alignment with accuracy of location                                                                     \t| H7/p6                    \t| P7/h6                     \t| Needs pressure                                     \t| Split journal bearings                                                                                                          \t|\n",
        "|              \t| Medium drive fit            \t| For ordinary steel parts or shrink   <br>fits on light sections                                                                                \t| H7/s6                    \t| S7/h6                     \t| Needs pressure or <br>temperature   <br>difference \t| Clutch hubs, bearing bushes in   <br>blocks, wheels, connecting rods. <br>Bronze collars on gray cast iron hubs                 \t|\n",
        "|              \t| Force fit                   \t| Fit suitable for parts which can   <br>be highly stressed or for shrink fits <br>where the heavy pressing forces <br>required are impractical. \t| H7/u6                    \t| U7/h6                     \t| Needs pressure or<br>temperature<br>difference     \t| Permanent coupling of<br>gears with shafts, flanges                                                                             \t|\n",
        "\n"
      ]
    },
    {
      "cell_type": "markdown",
      "metadata": {
        "id": "qtjPbvPjPl5C",
        "colab_type": "text"
      },
      "source": [
        "## Fits Calculator"
      ]
    },
    {
      "cell_type": "code",
      "metadata": {
        "id": "KzAqp_zq2Iff",
        "colab_type": "code",
        "colab": {}
      },
      "source": [
        "!git clone https://github.com/rubensdmd/mechanical_fits.git"
      ],
      "execution_count": null,
      "outputs": []
    },
    {
      "cell_type": "code",
      "metadata": {
        "id": "iKxHagg_7JiI",
        "colab_type": "code",
        "colab": {
          "base_uri": "https://localhost:8080/",
          "height": 95
        },
        "outputId": "9fd04c05-f6bb-4d42-ddc7-802821b975b2"
      },
      "source": [
        "#@title #Preferred Metric Fits { run: \"auto\", vertical-output: true, form-width: \"30%\", display-mode: \"form\" }\n",
        "Basic_size =  60#@param {type:\"number\"}\n",
        "Basis = \"Shaft\" #@param [\"Hole\", \"Shaft\"]\n",
        "Preferred_Fit = \"Sliding\" #@param [\"Loose running\", \"Free running\", \"Close running\", \"Sliding\", \"Locational clearance\", \"Locational transition\", \"Locational transition accurate\", \"Locational interference\", \"Medium-drive\", \"Force\"]\n",
        "\n",
        "preferredFit = {\"Loose running\": {'Hole':'H11/c11','Shaft':'C11/h11'}, \n",
        "                \"Free running\": {'Hole':'H9/d9','Shaft':'D9/h9'}, \n",
        "                \"Close running\": {'Hole':'H8/f7','Shaft':'F8/h7'}, \n",
        "                \"Sliding\": {'Hole':'H7/g6','Shaft':'G7/h6'}, \n",
        "                \"Locational clearance\": {'Hole':'H7/h6','Shaft':'H7/h6'}, \n",
        "                \"Locational transition\": {'Hole':'H7/k6','Shaft':'K7/h6'}, \n",
        "                \"Locational transition accurate\": {'Hole':'H7/n6','Shaft':'N7/h6'}, \n",
        "                \"Locational interference\": {'Hole':'H7/p6','Shaft':'P7/h6'}, \n",
        "                \"Medium-drive\": {'Hole':'H7/s6','Shaft':'S7/h6'}, \n",
        "                \"Force\": {'Hole':'H7/u6','Shaft':'U7/h6'}}\n",
        "\n",
        "\n",
        "import os,re\n",
        "os.chdir('/content/mechanical_fits')\n",
        "from mechanicalFits import tolerance\n",
        "from IPython.display import display, Markdown, Latex\n",
        "\n",
        "fitRegex = re.compile(r'\\D')\n",
        "gradeRegex = re.compile(r'\\d+')\n",
        "fitlimRegex = re.compile(r'\\w\\d+')\n",
        "fit = fitRegex.findall(preferredFit[Preferred_Fit][Basis])\n",
        "grade = gradeRegex.findall(preferredFit[Preferred_Fit][Basis])\n",
        "fitlim = fitlimRegex.findall(preferredFit[Preferred_Fit][Basis])\n",
        "\n",
        "LimitsH = tolerance(Basic_size,fit[0],grade[0])\n",
        "LimitsS = tolerance(Basic_size,fit[2],grade[1])\n",
        "\n",
        "#print(LimitsH)\n",
        "#print(LimitsS)\n",
        "\n",
        "upDevH = str(round(int(LimitsH[0])*0.001,3))\n",
        "lowDevH = str(round(int(LimitsH[1])*0.001,3))\n",
        "upDevS = str(round(int(LimitsS[0])*0.001,3))\n",
        "lowDevS = str(round(int(LimitsS[1])*0.001,3))\n",
        "deviations = [upDevH, lowDevH, upDevS, lowDevS]\n",
        "for i in range(len(deviations)):\n",
        "  if float(deviations[i]) >= 0:\n",
        "    deviations[i] = '+' + deviations[i]\n",
        "\n",
        "\n",
        "display(Latex('Hole: \\:' + str(Basic_size) + '\\\\:\\\\:' + fitlim[0] + '\\\\Rightarrow  '+ str(Basic_size) + '\\\\binom{'+ deviations[0] +'}'+'{'+ deviations[1] +'}'))\n",
        "print('\\n')\n",
        "display(Latex('Shaft: \\:' + str(Basic_size) + '\\\\:\\\\:' + fitlim[1] + '\\\\Rightarrow  '+ str(Basic_size) + '\\\\binom{'+ deviations[2] +'}'+'{'+ deviations[3] +'}'))\n"
      ],
      "execution_count": 18,
      "outputs": [
        {
          "output_type": "display_data",
          "data": {
            "text/latex": "Hole: \\:60\\:\\:G7\\Rightarrow  60\\binom{+0.04}{+0.01}",
            "text/plain": [
              "<IPython.core.display.Latex object>"
            ]
          },
          "metadata": {
            "tags": []
          }
        },
        {
          "output_type": "stream",
          "text": [
            "\n",
            "\n"
          ],
          "name": "stdout"
        },
        {
          "output_type": "display_data",
          "data": {
            "text/latex": "Shaft: \\:60\\:\\:h6\\Rightarrow  60\\binom{+0.0}{-0.019}",
            "text/plain": [
              "<IPython.core.display.Latex object>"
            ]
          },
          "metadata": {
            "tags": []
          }
        }
      ]
    },
    {
      "cell_type": "code",
      "metadata": {
        "id": "yQx1sSMuHtR-",
        "colab_type": "code",
        "colab": {
          "base_uri": "https://localhost:8080/",
          "height": 95
        },
        "outputId": "7921c86b-2a04-4835-d4ef-f2a174520fe9"
      },
      "source": [
        "#@title #Specific Metric Fits { run: \"auto\", vertical-output: true, form-width: \"30%\", display-mode: \"form\" }\n",
        "Basic_size =  20#@param {type:\"number\"}\n",
        "Deviation = \"s\" #@param [\"a\", \"b\", \"c\", \"cd\", \"d\", \"e\", \"ef\", \"f\", \"fg\", \"g\", \"h\", \"j\", \"js\", \"k\", \"m\", \"n\", \"p\", \"r\", \"s\", \"t\", \"u\", \"v\", \"x\", \"y\", \"z\", \"za\", \"zb\", \"zc\", \"A\", \"B\", \"C\", \"CD\", \"D\", \"E\", \"EF\", \"F\", \"FG\", \"G\", \"H\", \"J\", \"JS\", \"K\", \"M\", \"N\", \"P\", \"R\", \"S\", \"T\", \"U\", \"V\", \"X\", \"Y\", \"Z\", \"ZA\", \"ZB\", \"ZC\"] {allow-input: true}\n",
        "IT_Grade = \"8\" #@param [\"0\", \"01\", \"1\", \"2\", \"3\", \"4\", \"5\", \"6\", \"7\", \"8\", \"9\", \"10\", \"11\", \"12\", \"13\", \"14\", \"15\", \"16\", \"17\", \"18\"] {allow-input: true}\n",
        "\n",
        "import os\n",
        "os.chdir('/content/mechanical_fits')\n",
        "from mechanicalFits import tolerance\n",
        "from IPython.display import display, Markdown, Latex\n",
        "\n",
        "Ejes = ['a', 'b', 'c', 'cd', 'd', 'e', 'ef', 'f', 'fg', 'g', 'h', 'j', 'js', 'k', 'm', 'n', 'p', 'r', 's', 't', 'u', 'v', 'x', 'y', 'z', 'za', 'zb', 'zc']\n",
        "Agujeros = ['A', 'B', 'C', 'CD', 'D', 'E', 'EF', 'F', 'FG', 'G', 'H', 'J', 'JS', 'K', 'M', 'N', 'P', 'R', 'S', 'T', 'U', 'V', 'X', 'Y', 'Z', 'ZA', 'ZB', 'ZC']\n",
        "\n",
        "if Deviation in Ejes:\n",
        "  DeviationS = Deviation\n",
        "  IT_GradeS = IT_Grade\n",
        "  DeviationH = 'H'\n",
        "  IT_GradeH = str(int(IT_Grade)+1)\n",
        "else:\n",
        "  DeviationH = Deviation\n",
        "  IT_GradeH = IT_Grade\n",
        "  DeviationS = 'h'\n",
        "  IT_GradeS = str(int(IT_Grade)-1)\n",
        "\n",
        "LimitsH = tolerance(Basic_size, DeviationH, IT_GradeH)\n",
        "LimitsS = tolerance(Basic_size, DeviationS, IT_GradeS)\n",
        "\n",
        "upDevH = str(round(int(LimitsH[0])*0.001,3))\n",
        "lowDevH = str(round(int(LimitsH[1])*0.001,3))\n",
        "upDevS = str(round(int(LimitsS[0])*0.001,3))\n",
        "lowDevS = str(round(int(LimitsS[1])*0.001,3))\n",
        "deviations = [upDevH, lowDevH, upDevS, lowDevS]\n",
        "\n",
        "for i in range(len(deviations)):\n",
        "  if float(deviations[i]) >= 0:\n",
        "    deviations[i] = '+' + deviations[i]\n",
        "\n",
        "\n",
        "display(Latex('Hole: \\:' + str(Basic_size) + '\\\\:\\\\:' + DeviationH + IT_GradeH + '\\\\Rightarrow  '+ str(Basic_size) + '\\\\binom{'+ deviations[0] +'}'+'{'+ deviations[1] +'}'))\n",
        "print('\\n')\n",
        "display(Latex('Shaft: \\:' + str(Basic_size) + '\\\\:\\\\:' + DeviationS + IT_GradeS + '\\\\Rightarrow  '+ str(Basic_size) + '\\\\binom{'+ deviations[2] +'}'+'{'+ deviations[3] +'}'))\n"
      ],
      "execution_count": 42,
      "outputs": [
        {
          "output_type": "display_data",
          "data": {
            "text/latex": "Hole: \\:20\\:\\:H9\\Rightarrow  20\\binom{+0.052}{+0.0}",
            "text/plain": [
              "<IPython.core.display.Latex object>"
            ]
          },
          "metadata": {
            "tags": []
          }
        },
        {
          "output_type": "stream",
          "text": [
            "\n",
            "\n"
          ],
          "name": "stdout"
        },
        {
          "output_type": "display_data",
          "data": {
            "text/latex": "Shaft: \\:20\\:\\:s8\\Rightarrow  20\\binom{+0.068}{+0.035}",
            "text/plain": [
              "<IPython.core.display.Latex object>"
            ]
          },
          "metadata": {
            "tags": []
          }
        }
      ]
    },
    {
      "cell_type": "markdown",
      "metadata": {
        "id": "LT4Yd7DiPYiz",
        "colab_type": "text"
      },
      "source": [
        "# Referencias\n",
        "\n",
        "[Mechanical Design\n",
        "Engineering Handbook](https://drive.google.com/open?id=1dV7TP_xreZubqBHlq1vBOmAywXZphpb2)\n",
        "\n",
        "[27th Edition\n",
        "Machinery’s\n",
        "Handbook](https://drive.google.com/open?id=1oL9Tz433R4AF-fD-rZ8tAptSBDgxgR_Y)\n",
        "\n",
        "[Elementos de máquinas PARTE 1 (Clavijo y Torrealba)](https://drive.google.com/open?id=1cVTchX0lrNev0yk02MahcC2kPcD-hvO9)\n",
        "\n",
        "[Tolerancias dimensionales IMH (Centro avanzado de fabricación)](https://www.imh.eus/es/imh/comunicacion/docu-libre/medicion-tridimensional/resultados/tolerancias/dimensionales)"
      ]
    }
  ]
}